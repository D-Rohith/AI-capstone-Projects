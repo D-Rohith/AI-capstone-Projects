{
  "nbformat": 4,
  "nbformat_minor": 0,
  "metadata": {
    "colab": {
      "provenance": [],
      "collapsed_sections": [],
      "authorship_tag": "ABX9TyM/LUlcOhPcwFg94c0tHZ9K"
    },
    "kernelspec": {
      "name": "python3",
      "display_name": "Python 3"
    },
    "language_info": {
      "name": "python"
    }
  },
  "cells": [
    {
      "cell_type": "markdown",
      "source": [
        "# Importing required libraries and downloading the concrete data to pandas dataframe"
      ],
      "metadata": {
        "id": "p9a0Pnj0fp3A"
      }
    },
    {
      "cell_type": "code",
      "source": [
        "import pandas as pd\n",
        "import numpy as np"
      ],
      "metadata": {
        "id": "paFVGs4gLoqg"
      },
      "execution_count": 1,
      "outputs": []
    },
    {
      "cell_type": "code",
      "source": [
        "concrete_data = pd.read_csv('https://cocl.us/concrete_data')\n",
        "concrete_data.head()"
      ],
      "metadata": {
        "colab": {
          "base_uri": "https://localhost:8080/",
          "height": 206
        },
        "id": "N1YW6oI6MCcL",
        "outputId": "0b9366e1-c0d4-4c1f-dc9d-9fe7bca9abe6"
      },
      "execution_count": 2,
      "outputs": [
        {
          "output_type": "execute_result",
          "data": {
            "text/plain": [
              "   Cement  Blast Furnace Slag  Fly Ash  Water  Superplasticizer  \\\n",
              "0   540.0                 0.0      0.0  162.0               2.5   \n",
              "1   540.0                 0.0      0.0  162.0               2.5   \n",
              "2   332.5               142.5      0.0  228.0               0.0   \n",
              "3   332.5               142.5      0.0  228.0               0.0   \n",
              "4   198.6               132.4      0.0  192.0               0.0   \n",
              "\n",
              "   Coarse Aggregate  Fine Aggregate  Age  Strength  \n",
              "0            1040.0           676.0   28     79.99  \n",
              "1            1055.0           676.0   28     61.89  \n",
              "2             932.0           594.0  270     40.27  \n",
              "3             932.0           594.0  365     41.05  \n",
              "4             978.4           825.5  360     44.30  "
            ],
            "text/html": [
              "\n",
              "  <div id=\"df-079d45dd-051a-4a51-8778-61bfbc5ad63d\">\n",
              "    <div class=\"colab-df-container\">\n",
              "      <div>\n",
              "<style scoped>\n",
              "    .dataframe tbody tr th:only-of-type {\n",
              "        vertical-align: middle;\n",
              "    }\n",
              "\n",
              "    .dataframe tbody tr th {\n",
              "        vertical-align: top;\n",
              "    }\n",
              "\n",
              "    .dataframe thead th {\n",
              "        text-align: right;\n",
              "    }\n",
              "</style>\n",
              "<table border=\"1\" class=\"dataframe\">\n",
              "  <thead>\n",
              "    <tr style=\"text-align: right;\">\n",
              "      <th></th>\n",
              "      <th>Cement</th>\n",
              "      <th>Blast Furnace Slag</th>\n",
              "      <th>Fly Ash</th>\n",
              "      <th>Water</th>\n",
              "      <th>Superplasticizer</th>\n",
              "      <th>Coarse Aggregate</th>\n",
              "      <th>Fine Aggregate</th>\n",
              "      <th>Age</th>\n",
              "      <th>Strength</th>\n",
              "    </tr>\n",
              "  </thead>\n",
              "  <tbody>\n",
              "    <tr>\n",
              "      <th>0</th>\n",
              "      <td>540.0</td>\n",
              "      <td>0.0</td>\n",
              "      <td>0.0</td>\n",
              "      <td>162.0</td>\n",
              "      <td>2.5</td>\n",
              "      <td>1040.0</td>\n",
              "      <td>676.0</td>\n",
              "      <td>28</td>\n",
              "      <td>79.99</td>\n",
              "    </tr>\n",
              "    <tr>\n",
              "      <th>1</th>\n",
              "      <td>540.0</td>\n",
              "      <td>0.0</td>\n",
              "      <td>0.0</td>\n",
              "      <td>162.0</td>\n",
              "      <td>2.5</td>\n",
              "      <td>1055.0</td>\n",
              "      <td>676.0</td>\n",
              "      <td>28</td>\n",
              "      <td>61.89</td>\n",
              "    </tr>\n",
              "    <tr>\n",
              "      <th>2</th>\n",
              "      <td>332.5</td>\n",
              "      <td>142.5</td>\n",
              "      <td>0.0</td>\n",
              "      <td>228.0</td>\n",
              "      <td>0.0</td>\n",
              "      <td>932.0</td>\n",
              "      <td>594.0</td>\n",
              "      <td>270</td>\n",
              "      <td>40.27</td>\n",
              "    </tr>\n",
              "    <tr>\n",
              "      <th>3</th>\n",
              "      <td>332.5</td>\n",
              "      <td>142.5</td>\n",
              "      <td>0.0</td>\n",
              "      <td>228.0</td>\n",
              "      <td>0.0</td>\n",
              "      <td>932.0</td>\n",
              "      <td>594.0</td>\n",
              "      <td>365</td>\n",
              "      <td>41.05</td>\n",
              "    </tr>\n",
              "    <tr>\n",
              "      <th>4</th>\n",
              "      <td>198.6</td>\n",
              "      <td>132.4</td>\n",
              "      <td>0.0</td>\n",
              "      <td>192.0</td>\n",
              "      <td>0.0</td>\n",
              "      <td>978.4</td>\n",
              "      <td>825.5</td>\n",
              "      <td>360</td>\n",
              "      <td>44.30</td>\n",
              "    </tr>\n",
              "  </tbody>\n",
              "</table>\n",
              "</div>\n",
              "      <button class=\"colab-df-convert\" onclick=\"convertToInteractive('df-079d45dd-051a-4a51-8778-61bfbc5ad63d')\"\n",
              "              title=\"Convert this dataframe to an interactive table.\"\n",
              "              style=\"display:none;\">\n",
              "        \n",
              "  <svg xmlns=\"http://www.w3.org/2000/svg\" height=\"24px\"viewBox=\"0 0 24 24\"\n",
              "       width=\"24px\">\n",
              "    <path d=\"M0 0h24v24H0V0z\" fill=\"none\"/>\n",
              "    <path d=\"M18.56 5.44l.94 2.06.94-2.06 2.06-.94-2.06-.94-.94-2.06-.94 2.06-2.06.94zm-11 1L8.5 8.5l.94-2.06 2.06-.94-2.06-.94L8.5 2.5l-.94 2.06-2.06.94zm10 10l.94 2.06.94-2.06 2.06-.94-2.06-.94-.94-2.06-.94 2.06-2.06.94z\"/><path d=\"M17.41 7.96l-1.37-1.37c-.4-.4-.92-.59-1.43-.59-.52 0-1.04.2-1.43.59L10.3 9.45l-7.72 7.72c-.78.78-.78 2.05 0 2.83L4 21.41c.39.39.9.59 1.41.59.51 0 1.02-.2 1.41-.59l7.78-7.78 2.81-2.81c.8-.78.8-2.07 0-2.86zM5.41 20L4 18.59l7.72-7.72 1.47 1.35L5.41 20z\"/>\n",
              "  </svg>\n",
              "      </button>\n",
              "      \n",
              "  <style>\n",
              "    .colab-df-container {\n",
              "      display:flex;\n",
              "      flex-wrap:wrap;\n",
              "      gap: 12px;\n",
              "    }\n",
              "\n",
              "    .colab-df-convert {\n",
              "      background-color: #E8F0FE;\n",
              "      border: none;\n",
              "      border-radius: 50%;\n",
              "      cursor: pointer;\n",
              "      display: none;\n",
              "      fill: #1967D2;\n",
              "      height: 32px;\n",
              "      padding: 0 0 0 0;\n",
              "      width: 32px;\n",
              "    }\n",
              "\n",
              "    .colab-df-convert:hover {\n",
              "      background-color: #E2EBFA;\n",
              "      box-shadow: 0px 1px 2px rgba(60, 64, 67, 0.3), 0px 1px 3px 1px rgba(60, 64, 67, 0.15);\n",
              "      fill: #174EA6;\n",
              "    }\n",
              "\n",
              "    [theme=dark] .colab-df-convert {\n",
              "      background-color: #3B4455;\n",
              "      fill: #D2E3FC;\n",
              "    }\n",
              "\n",
              "    [theme=dark] .colab-df-convert:hover {\n",
              "      background-color: #434B5C;\n",
              "      box-shadow: 0px 1px 3px 1px rgba(0, 0, 0, 0.15);\n",
              "      filter: drop-shadow(0px 1px 2px rgba(0, 0, 0, 0.3));\n",
              "      fill: #FFFFFF;\n",
              "    }\n",
              "  </style>\n",
              "\n",
              "      <script>\n",
              "        const buttonEl =\n",
              "          document.querySelector('#df-079d45dd-051a-4a51-8778-61bfbc5ad63d button.colab-df-convert');\n",
              "        buttonEl.style.display =\n",
              "          google.colab.kernel.accessAllowed ? 'block' : 'none';\n",
              "\n",
              "        async function convertToInteractive(key) {\n",
              "          const element = document.querySelector('#df-079d45dd-051a-4a51-8778-61bfbc5ad63d');\n",
              "          const dataTable =\n",
              "            await google.colab.kernel.invokeFunction('convertToInteractive',\n",
              "                                                     [key], {});\n",
              "          if (!dataTable) return;\n",
              "\n",
              "          const docLinkHtml = 'Like what you see? Visit the ' +\n",
              "            '<a target=\"_blank\" href=https://colab.research.google.com/notebooks/data_table.ipynb>data table notebook</a>'\n",
              "            + ' to learn more about interactive tables.';\n",
              "          element.innerHTML = '';\n",
              "          dataTable['output_type'] = 'display_data';\n",
              "          await google.colab.output.renderOutput(dataTable, element);\n",
              "          const docLink = document.createElement('div');\n",
              "          docLink.innerHTML = docLinkHtml;\n",
              "          element.appendChild(docLink);\n",
              "        }\n",
              "      </script>\n",
              "    </div>\n",
              "  </div>\n",
              "  "
            ]
          },
          "metadata": {},
          "execution_count": 2
        }
      ]
    },
    {
      "cell_type": "markdown",
      "source": [
        "# Data visualization and pre-processing"
      ],
      "metadata": {
        "id": "gnWxWMoZg4Fo"
      }
    },
    {
      "cell_type": "code",
      "source": [
        "concrete_data.shape"
      ],
      "metadata": {
        "colab": {
          "base_uri": "https://localhost:8080/"
        },
        "id": "YKNrqwfxvlx3",
        "outputId": "d0b9935b-0f7f-4668-c285-2204a6a4e529"
      },
      "execution_count": 3,
      "outputs": [
        {
          "output_type": "execute_result",
          "data": {
            "text/plain": [
              "(1030, 9)"
            ]
          },
          "metadata": {},
          "execution_count": 3
        }
      ]
    },
    {
      "cell_type": "code",
      "source": [
        "concrete_data.describe()"
      ],
      "metadata": {
        "colab": {
          "base_uri": "https://localhost:8080/",
          "height": 300
        },
        "id": "tEGcjlpYMImO",
        "outputId": "5ed0f2c7-2358-4896-9e6c-77357ac4478c"
      },
      "execution_count": 4,
      "outputs": [
        {
          "output_type": "execute_result",
          "data": {
            "text/plain": [
              "            Cement  Blast Furnace Slag      Fly Ash        Water  \\\n",
              "count  1030.000000         1030.000000  1030.000000  1030.000000   \n",
              "mean    281.167864           73.895825    54.188350   181.567282   \n",
              "std     104.506364           86.279342    63.997004    21.354219   \n",
              "min     102.000000            0.000000     0.000000   121.800000   \n",
              "25%     192.375000            0.000000     0.000000   164.900000   \n",
              "50%     272.900000           22.000000     0.000000   185.000000   \n",
              "75%     350.000000          142.950000   118.300000   192.000000   \n",
              "max     540.000000          359.400000   200.100000   247.000000   \n",
              "\n",
              "       Superplasticizer  Coarse Aggregate  Fine Aggregate          Age  \\\n",
              "count       1030.000000       1030.000000     1030.000000  1030.000000   \n",
              "mean           6.204660        972.918932      773.580485    45.662136   \n",
              "std            5.973841         77.753954       80.175980    63.169912   \n",
              "min            0.000000        801.000000      594.000000     1.000000   \n",
              "25%            0.000000        932.000000      730.950000     7.000000   \n",
              "50%            6.400000        968.000000      779.500000    28.000000   \n",
              "75%           10.200000       1029.400000      824.000000    56.000000   \n",
              "max           32.200000       1145.000000      992.600000   365.000000   \n",
              "\n",
              "          Strength  \n",
              "count  1030.000000  \n",
              "mean     35.817961  \n",
              "std      16.705742  \n",
              "min       2.330000  \n",
              "25%      23.710000  \n",
              "50%      34.445000  \n",
              "75%      46.135000  \n",
              "max      82.600000  "
            ],
            "text/html": [
              "\n",
              "  <div id=\"df-e6ec1a95-551f-4c43-bb64-46f4770ab9f8\">\n",
              "    <div class=\"colab-df-container\">\n",
              "      <div>\n",
              "<style scoped>\n",
              "    .dataframe tbody tr th:only-of-type {\n",
              "        vertical-align: middle;\n",
              "    }\n",
              "\n",
              "    .dataframe tbody tr th {\n",
              "        vertical-align: top;\n",
              "    }\n",
              "\n",
              "    .dataframe thead th {\n",
              "        text-align: right;\n",
              "    }\n",
              "</style>\n",
              "<table border=\"1\" class=\"dataframe\">\n",
              "  <thead>\n",
              "    <tr style=\"text-align: right;\">\n",
              "      <th></th>\n",
              "      <th>Cement</th>\n",
              "      <th>Blast Furnace Slag</th>\n",
              "      <th>Fly Ash</th>\n",
              "      <th>Water</th>\n",
              "      <th>Superplasticizer</th>\n",
              "      <th>Coarse Aggregate</th>\n",
              "      <th>Fine Aggregate</th>\n",
              "      <th>Age</th>\n",
              "      <th>Strength</th>\n",
              "    </tr>\n",
              "  </thead>\n",
              "  <tbody>\n",
              "    <tr>\n",
              "      <th>count</th>\n",
              "      <td>1030.000000</td>\n",
              "      <td>1030.000000</td>\n",
              "      <td>1030.000000</td>\n",
              "      <td>1030.000000</td>\n",
              "      <td>1030.000000</td>\n",
              "      <td>1030.000000</td>\n",
              "      <td>1030.000000</td>\n",
              "      <td>1030.000000</td>\n",
              "      <td>1030.000000</td>\n",
              "    </tr>\n",
              "    <tr>\n",
              "      <th>mean</th>\n",
              "      <td>281.167864</td>\n",
              "      <td>73.895825</td>\n",
              "      <td>54.188350</td>\n",
              "      <td>181.567282</td>\n",
              "      <td>6.204660</td>\n",
              "      <td>972.918932</td>\n",
              "      <td>773.580485</td>\n",
              "      <td>45.662136</td>\n",
              "      <td>35.817961</td>\n",
              "    </tr>\n",
              "    <tr>\n",
              "      <th>std</th>\n",
              "      <td>104.506364</td>\n",
              "      <td>86.279342</td>\n",
              "      <td>63.997004</td>\n",
              "      <td>21.354219</td>\n",
              "      <td>5.973841</td>\n",
              "      <td>77.753954</td>\n",
              "      <td>80.175980</td>\n",
              "      <td>63.169912</td>\n",
              "      <td>16.705742</td>\n",
              "    </tr>\n",
              "    <tr>\n",
              "      <th>min</th>\n",
              "      <td>102.000000</td>\n",
              "      <td>0.000000</td>\n",
              "      <td>0.000000</td>\n",
              "      <td>121.800000</td>\n",
              "      <td>0.000000</td>\n",
              "      <td>801.000000</td>\n",
              "      <td>594.000000</td>\n",
              "      <td>1.000000</td>\n",
              "      <td>2.330000</td>\n",
              "    </tr>\n",
              "    <tr>\n",
              "      <th>25%</th>\n",
              "      <td>192.375000</td>\n",
              "      <td>0.000000</td>\n",
              "      <td>0.000000</td>\n",
              "      <td>164.900000</td>\n",
              "      <td>0.000000</td>\n",
              "      <td>932.000000</td>\n",
              "      <td>730.950000</td>\n",
              "      <td>7.000000</td>\n",
              "      <td>23.710000</td>\n",
              "    </tr>\n",
              "    <tr>\n",
              "      <th>50%</th>\n",
              "      <td>272.900000</td>\n",
              "      <td>22.000000</td>\n",
              "      <td>0.000000</td>\n",
              "      <td>185.000000</td>\n",
              "      <td>6.400000</td>\n",
              "      <td>968.000000</td>\n",
              "      <td>779.500000</td>\n",
              "      <td>28.000000</td>\n",
              "      <td>34.445000</td>\n",
              "    </tr>\n",
              "    <tr>\n",
              "      <th>75%</th>\n",
              "      <td>350.000000</td>\n",
              "      <td>142.950000</td>\n",
              "      <td>118.300000</td>\n",
              "      <td>192.000000</td>\n",
              "      <td>10.200000</td>\n",
              "      <td>1029.400000</td>\n",
              "      <td>824.000000</td>\n",
              "      <td>56.000000</td>\n",
              "      <td>46.135000</td>\n",
              "    </tr>\n",
              "    <tr>\n",
              "      <th>max</th>\n",
              "      <td>540.000000</td>\n",
              "      <td>359.400000</td>\n",
              "      <td>200.100000</td>\n",
              "      <td>247.000000</td>\n",
              "      <td>32.200000</td>\n",
              "      <td>1145.000000</td>\n",
              "      <td>992.600000</td>\n",
              "      <td>365.000000</td>\n",
              "      <td>82.600000</td>\n",
              "    </tr>\n",
              "  </tbody>\n",
              "</table>\n",
              "</div>\n",
              "      <button class=\"colab-df-convert\" onclick=\"convertToInteractive('df-e6ec1a95-551f-4c43-bb64-46f4770ab9f8')\"\n",
              "              title=\"Convert this dataframe to an interactive table.\"\n",
              "              style=\"display:none;\">\n",
              "        \n",
              "  <svg xmlns=\"http://www.w3.org/2000/svg\" height=\"24px\"viewBox=\"0 0 24 24\"\n",
              "       width=\"24px\">\n",
              "    <path d=\"M0 0h24v24H0V0z\" fill=\"none\"/>\n",
              "    <path d=\"M18.56 5.44l.94 2.06.94-2.06 2.06-.94-2.06-.94-.94-2.06-.94 2.06-2.06.94zm-11 1L8.5 8.5l.94-2.06 2.06-.94-2.06-.94L8.5 2.5l-.94 2.06-2.06.94zm10 10l.94 2.06.94-2.06 2.06-.94-2.06-.94-.94-2.06-.94 2.06-2.06.94z\"/><path d=\"M17.41 7.96l-1.37-1.37c-.4-.4-.92-.59-1.43-.59-.52 0-1.04.2-1.43.59L10.3 9.45l-7.72 7.72c-.78.78-.78 2.05 0 2.83L4 21.41c.39.39.9.59 1.41.59.51 0 1.02-.2 1.41-.59l7.78-7.78 2.81-2.81c.8-.78.8-2.07 0-2.86zM5.41 20L4 18.59l7.72-7.72 1.47 1.35L5.41 20z\"/>\n",
              "  </svg>\n",
              "      </button>\n",
              "      \n",
              "  <style>\n",
              "    .colab-df-container {\n",
              "      display:flex;\n",
              "      flex-wrap:wrap;\n",
              "      gap: 12px;\n",
              "    }\n",
              "\n",
              "    .colab-df-convert {\n",
              "      background-color: #E8F0FE;\n",
              "      border: none;\n",
              "      border-radius: 50%;\n",
              "      cursor: pointer;\n",
              "      display: none;\n",
              "      fill: #1967D2;\n",
              "      height: 32px;\n",
              "      padding: 0 0 0 0;\n",
              "      width: 32px;\n",
              "    }\n",
              "\n",
              "    .colab-df-convert:hover {\n",
              "      background-color: #E2EBFA;\n",
              "      box-shadow: 0px 1px 2px rgba(60, 64, 67, 0.3), 0px 1px 3px 1px rgba(60, 64, 67, 0.15);\n",
              "      fill: #174EA6;\n",
              "    }\n",
              "\n",
              "    [theme=dark] .colab-df-convert {\n",
              "      background-color: #3B4455;\n",
              "      fill: #D2E3FC;\n",
              "    }\n",
              "\n",
              "    [theme=dark] .colab-df-convert:hover {\n",
              "      background-color: #434B5C;\n",
              "      box-shadow: 0px 1px 3px 1px rgba(0, 0, 0, 0.15);\n",
              "      filter: drop-shadow(0px 1px 2px rgba(0, 0, 0, 0.3));\n",
              "      fill: #FFFFFF;\n",
              "    }\n",
              "  </style>\n",
              "\n",
              "      <script>\n",
              "        const buttonEl =\n",
              "          document.querySelector('#df-e6ec1a95-551f-4c43-bb64-46f4770ab9f8 button.colab-df-convert');\n",
              "        buttonEl.style.display =\n",
              "          google.colab.kernel.accessAllowed ? 'block' : 'none';\n",
              "\n",
              "        async function convertToInteractive(key) {\n",
              "          const element = document.querySelector('#df-e6ec1a95-551f-4c43-bb64-46f4770ab9f8');\n",
              "          const dataTable =\n",
              "            await google.colab.kernel.invokeFunction('convertToInteractive',\n",
              "                                                     [key], {});\n",
              "          if (!dataTable) return;\n",
              "\n",
              "          const docLinkHtml = 'Like what you see? Visit the ' +\n",
              "            '<a target=\"_blank\" href=https://colab.research.google.com/notebooks/data_table.ipynb>data table notebook</a>'\n",
              "            + ' to learn more about interactive tables.';\n",
              "          element.innerHTML = '';\n",
              "          dataTable['output_type'] = 'display_data';\n",
              "          await google.colab.output.renderOutput(dataTable, element);\n",
              "          const docLink = document.createElement('div');\n",
              "          docLink.innerHTML = docLinkHtml;\n",
              "          element.appendChild(docLink);\n",
              "        }\n",
              "      </script>\n",
              "    </div>\n",
              "  </div>\n",
              "  "
            ]
          },
          "metadata": {},
          "execution_count": 4
        }
      ]
    },
    {
      "cell_type": "code",
      "source": [
        "concrete_data.isnull().sum()"
      ],
      "metadata": {
        "colab": {
          "base_uri": "https://localhost:8080/"
        },
        "id": "kPNcjepHMLGl",
        "outputId": "f16ce47f-f508-4a26-c1ac-e4f52118be9e"
      },
      "execution_count": 5,
      "outputs": [
        {
          "output_type": "execute_result",
          "data": {
            "text/plain": [
              "Cement                0\n",
              "Blast Furnace Slag    0\n",
              "Fly Ash               0\n",
              "Water                 0\n",
              "Superplasticizer      0\n",
              "Coarse Aggregate      0\n",
              "Fine Aggregate        0\n",
              "Age                   0\n",
              "Strength              0\n",
              "dtype: int64"
            ]
          },
          "metadata": {},
          "execution_count": 5
        }
      ]
    },
    {
      "cell_type": "markdown",
      "source": [
        "#### Split data into predictors and target"
      ],
      "metadata": {
        "id": "8wzBQ2WohMrI"
      }
    },
    {
      "cell_type": "code",
      "source": [
        "concrete_data_columns = concrete_data.columns\n",
        "\n",
        "predictors = concrete_data[concrete_data_columns[concrete_data_columns != 'Strength']] # all columns except Strength\n",
        "target = concrete_data['Strength'] # Strength column"
      ],
      "metadata": {
        "id": "rad_oZa9MOWO"
      },
      "execution_count": 6,
      "outputs": []
    },
    {
      "cell_type": "code",
      "source": [
        "predictors.head()"
      ],
      "metadata": {
        "colab": {
          "base_uri": "https://localhost:8080/",
          "height": 206
        },
        "id": "RfYLxfnKMRZr",
        "outputId": "5c7cfaa9-a899-4370-ef16-d6ff2a7c8530"
      },
      "execution_count": 7,
      "outputs": [
        {
          "output_type": "execute_result",
          "data": {
            "text/plain": [
              "   Cement  Blast Furnace Slag  Fly Ash  Water  Superplasticizer  \\\n",
              "0   540.0                 0.0      0.0  162.0               2.5   \n",
              "1   540.0                 0.0      0.0  162.0               2.5   \n",
              "2   332.5               142.5      0.0  228.0               0.0   \n",
              "3   332.5               142.5      0.0  228.0               0.0   \n",
              "4   198.6               132.4      0.0  192.0               0.0   \n",
              "\n",
              "   Coarse Aggregate  Fine Aggregate  Age  \n",
              "0            1040.0           676.0   28  \n",
              "1            1055.0           676.0   28  \n",
              "2             932.0           594.0  270  \n",
              "3             932.0           594.0  365  \n",
              "4             978.4           825.5  360  "
            ],
            "text/html": [
              "\n",
              "  <div id=\"df-f4334c39-e73b-4a0d-a23b-f4a306d725ae\">\n",
              "    <div class=\"colab-df-container\">\n",
              "      <div>\n",
              "<style scoped>\n",
              "    .dataframe tbody tr th:only-of-type {\n",
              "        vertical-align: middle;\n",
              "    }\n",
              "\n",
              "    .dataframe tbody tr th {\n",
              "        vertical-align: top;\n",
              "    }\n",
              "\n",
              "    .dataframe thead th {\n",
              "        text-align: right;\n",
              "    }\n",
              "</style>\n",
              "<table border=\"1\" class=\"dataframe\">\n",
              "  <thead>\n",
              "    <tr style=\"text-align: right;\">\n",
              "      <th></th>\n",
              "      <th>Cement</th>\n",
              "      <th>Blast Furnace Slag</th>\n",
              "      <th>Fly Ash</th>\n",
              "      <th>Water</th>\n",
              "      <th>Superplasticizer</th>\n",
              "      <th>Coarse Aggregate</th>\n",
              "      <th>Fine Aggregate</th>\n",
              "      <th>Age</th>\n",
              "    </tr>\n",
              "  </thead>\n",
              "  <tbody>\n",
              "    <tr>\n",
              "      <th>0</th>\n",
              "      <td>540.0</td>\n",
              "      <td>0.0</td>\n",
              "      <td>0.0</td>\n",
              "      <td>162.0</td>\n",
              "      <td>2.5</td>\n",
              "      <td>1040.0</td>\n",
              "      <td>676.0</td>\n",
              "      <td>28</td>\n",
              "    </tr>\n",
              "    <tr>\n",
              "      <th>1</th>\n",
              "      <td>540.0</td>\n",
              "      <td>0.0</td>\n",
              "      <td>0.0</td>\n",
              "      <td>162.0</td>\n",
              "      <td>2.5</td>\n",
              "      <td>1055.0</td>\n",
              "      <td>676.0</td>\n",
              "      <td>28</td>\n",
              "    </tr>\n",
              "    <tr>\n",
              "      <th>2</th>\n",
              "      <td>332.5</td>\n",
              "      <td>142.5</td>\n",
              "      <td>0.0</td>\n",
              "      <td>228.0</td>\n",
              "      <td>0.0</td>\n",
              "      <td>932.0</td>\n",
              "      <td>594.0</td>\n",
              "      <td>270</td>\n",
              "    </tr>\n",
              "    <tr>\n",
              "      <th>3</th>\n",
              "      <td>332.5</td>\n",
              "      <td>142.5</td>\n",
              "      <td>0.0</td>\n",
              "      <td>228.0</td>\n",
              "      <td>0.0</td>\n",
              "      <td>932.0</td>\n",
              "      <td>594.0</td>\n",
              "      <td>365</td>\n",
              "    </tr>\n",
              "    <tr>\n",
              "      <th>4</th>\n",
              "      <td>198.6</td>\n",
              "      <td>132.4</td>\n",
              "      <td>0.0</td>\n",
              "      <td>192.0</td>\n",
              "      <td>0.0</td>\n",
              "      <td>978.4</td>\n",
              "      <td>825.5</td>\n",
              "      <td>360</td>\n",
              "    </tr>\n",
              "  </tbody>\n",
              "</table>\n",
              "</div>\n",
              "      <button class=\"colab-df-convert\" onclick=\"convertToInteractive('df-f4334c39-e73b-4a0d-a23b-f4a306d725ae')\"\n",
              "              title=\"Convert this dataframe to an interactive table.\"\n",
              "              style=\"display:none;\">\n",
              "        \n",
              "  <svg xmlns=\"http://www.w3.org/2000/svg\" height=\"24px\"viewBox=\"0 0 24 24\"\n",
              "       width=\"24px\">\n",
              "    <path d=\"M0 0h24v24H0V0z\" fill=\"none\"/>\n",
              "    <path d=\"M18.56 5.44l.94 2.06.94-2.06 2.06-.94-2.06-.94-.94-2.06-.94 2.06-2.06.94zm-11 1L8.5 8.5l.94-2.06 2.06-.94-2.06-.94L8.5 2.5l-.94 2.06-2.06.94zm10 10l.94 2.06.94-2.06 2.06-.94-2.06-.94-.94-2.06-.94 2.06-2.06.94z\"/><path d=\"M17.41 7.96l-1.37-1.37c-.4-.4-.92-.59-1.43-.59-.52 0-1.04.2-1.43.59L10.3 9.45l-7.72 7.72c-.78.78-.78 2.05 0 2.83L4 21.41c.39.39.9.59 1.41.59.51 0 1.02-.2 1.41-.59l7.78-7.78 2.81-2.81c.8-.78.8-2.07 0-2.86zM5.41 20L4 18.59l7.72-7.72 1.47 1.35L5.41 20z\"/>\n",
              "  </svg>\n",
              "      </button>\n",
              "      \n",
              "  <style>\n",
              "    .colab-df-container {\n",
              "      display:flex;\n",
              "      flex-wrap:wrap;\n",
              "      gap: 12px;\n",
              "    }\n",
              "\n",
              "    .colab-df-convert {\n",
              "      background-color: #E8F0FE;\n",
              "      border: none;\n",
              "      border-radius: 50%;\n",
              "      cursor: pointer;\n",
              "      display: none;\n",
              "      fill: #1967D2;\n",
              "      height: 32px;\n",
              "      padding: 0 0 0 0;\n",
              "      width: 32px;\n",
              "    }\n",
              "\n",
              "    .colab-df-convert:hover {\n",
              "      background-color: #E2EBFA;\n",
              "      box-shadow: 0px 1px 2px rgba(60, 64, 67, 0.3), 0px 1px 3px 1px rgba(60, 64, 67, 0.15);\n",
              "      fill: #174EA6;\n",
              "    }\n",
              "\n",
              "    [theme=dark] .colab-df-convert {\n",
              "      background-color: #3B4455;\n",
              "      fill: #D2E3FC;\n",
              "    }\n",
              "\n",
              "    [theme=dark] .colab-df-convert:hover {\n",
              "      background-color: #434B5C;\n",
              "      box-shadow: 0px 1px 3px 1px rgba(0, 0, 0, 0.15);\n",
              "      filter: drop-shadow(0px 1px 2px rgba(0, 0, 0, 0.3));\n",
              "      fill: #FFFFFF;\n",
              "    }\n",
              "  </style>\n",
              "\n",
              "      <script>\n",
              "        const buttonEl =\n",
              "          document.querySelector('#df-f4334c39-e73b-4a0d-a23b-f4a306d725ae button.colab-df-convert');\n",
              "        buttonEl.style.display =\n",
              "          google.colab.kernel.accessAllowed ? 'block' : 'none';\n",
              "\n",
              "        async function convertToInteractive(key) {\n",
              "          const element = document.querySelector('#df-f4334c39-e73b-4a0d-a23b-f4a306d725ae');\n",
              "          const dataTable =\n",
              "            await google.colab.kernel.invokeFunction('convertToInteractive',\n",
              "                                                     [key], {});\n",
              "          if (!dataTable) return;\n",
              "\n",
              "          const docLinkHtml = 'Like what you see? Visit the ' +\n",
              "            '<a target=\"_blank\" href=https://colab.research.google.com/notebooks/data_table.ipynb>data table notebook</a>'\n",
              "            + ' to learn more about interactive tables.';\n",
              "          element.innerHTML = '';\n",
              "          dataTable['output_type'] = 'display_data';\n",
              "          await google.colab.output.renderOutput(dataTable, element);\n",
              "          const docLink = document.createElement('div');\n",
              "          docLink.innerHTML = docLinkHtml;\n",
              "          element.appendChild(docLink);\n",
              "        }\n",
              "      </script>\n",
              "    </div>\n",
              "  </div>\n",
              "  "
            ]
          },
          "metadata": {},
          "execution_count": 7
        }
      ]
    },
    {
      "cell_type": "code",
      "source": [
        "target.head()"
      ],
      "metadata": {
        "colab": {
          "base_uri": "https://localhost:8080/"
        },
        "id": "rJx6TG95MT9w",
        "outputId": "c85e1041-3f67-403b-9030-50ece07c916a"
      },
      "execution_count": 8,
      "outputs": [
        {
          "output_type": "execute_result",
          "data": {
            "text/plain": [
              "0    79.99\n",
              "1    61.89\n",
              "2    40.27\n",
              "3    41.05\n",
              "4    44.30\n",
              "Name: Strength, dtype: float64"
            ]
          },
          "metadata": {},
          "execution_count": 8
        }
      ]
    },
    {
      "cell_type": "code",
      "source": [
        "n_cols = predictors.shape[1] # number of predictors\n",
        "n_cols"
      ],
      "metadata": {
        "colab": {
          "base_uri": "https://localhost:8080/"
        },
        "id": "tUHZSQ_QLzyR",
        "outputId": "46715538-55fd-445a-ced7-e678b9dd8d3a"
      },
      "execution_count": 9,
      "outputs": [
        {
          "output_type": "execute_result",
          "data": {
            "text/plain": [
              "8"
            ]
          },
          "metadata": {},
          "execution_count": 9
        }
      ]
    },
    {
      "cell_type": "markdown",
      "source": [
        "# **Part A**"
      ],
      "metadata": {
        "id": "Nzu9tS3BhU_p"
      }
    },
    {
      "cell_type": "markdown",
      "source": [
        "**Importing Keras Library and bulding the regression model**"
      ],
      "metadata": {
        "id": "1PkFZoNbheZP"
      }
    },
    {
      "cell_type": "code",
      "source": [
        "import keras\n",
        "from keras.models import Sequential\n",
        "from keras.layers import Dense"
      ],
      "metadata": {
        "id": "W0b-EuHXNOLw"
      },
      "execution_count": 10,
      "outputs": []
    },
    {
      "cell_type": "code",
      "source": [
        "# define regression model\n",
        "def regression_model():\n",
        "    # create model\n",
        "    model = Sequential()\n",
        "    model.add(Dense(10, activation='relu', input_shape=(n_cols,)))\n",
        "    model.add(Dense(1))\n",
        "    \n",
        "    # compile model\n",
        "    model.compile(optimizer='adam', loss='mean_squared_error')\n",
        "    return model"
      ],
      "metadata": {
        "id": "JNuYbpVbLpr0"
      },
      "execution_count": 11,
      "outputs": []
    },
    {
      "cell_type": "markdown",
      "source": [
        "**Random split the data into a training and test sets**"
      ],
      "metadata": {
        "id": "XvoSIUJIh5j-"
      }
    },
    {
      "cell_type": "code",
      "source": [
        "X = np.asarray(predictors)\n",
        "y = np.asarray(target)"
      ],
      "metadata": {
        "id": "Ve9aDJ-LMWgG"
      },
      "execution_count": 12,
      "outputs": []
    },
    {
      "cell_type": "code",
      "source": [
        "from sklearn.model_selection import train_test_split\n",
        "\n",
        "X_train, X_test, y_train, y_test = train_test_split( X, y, test_size=0.3, random_state=None)\n",
        "print ('Train set:', X_train.shape,  y_train.shape)\n",
        "print ('Test set:', X_test.shape,  y_test.shape)"
      ],
      "metadata": {
        "colab": {
          "base_uri": "https://localhost:8080/"
        },
        "id": "E8AJIihpLzqs",
        "outputId": "050f39ba-01ac-4013-c09a-04944bb92fab"
      },
      "execution_count": 13,
      "outputs": [
        {
          "output_type": "stream",
          "name": "stdout",
          "text": [
            "Train set: (721, 8) (721,)\n",
            "Test set: (309, 8) (309,)\n"
          ]
        }
      ]
    },
    {
      "cell_type": "code",
      "source": [
        "model_A = regression_model()"
      ],
      "metadata": {
        "id": "ahGX5CLKLz6Y"
      },
      "execution_count": 14,
      "outputs": []
    },
    {
      "cell_type": "markdown",
      "source": [
        "**Training the model on the training data using 50 epochs**"
      ],
      "metadata": {
        "id": "0QuMdaYHjQnl"
      }
    },
    {
      "cell_type": "code",
      "source": [
        "model_A.fit(X_train, y_train, epochs=50, verbose=2) "
      ],
      "metadata": {
        "colab": {
          "base_uri": "https://localhost:8080/"
        },
        "id": "bNHccgvsL0HO",
        "outputId": "1b3c1c78-1abb-4cf4-945c-7b924b94b4ad"
      },
      "execution_count": 15,
      "outputs": [
        {
          "output_type": "stream",
          "name": "stdout",
          "text": [
            "Epoch 1/50\n",
            "23/23 - 1s - loss: 27826.8770 - 947ms/epoch - 41ms/step\n",
            "Epoch 2/50\n",
            "23/23 - 0s - loss: 10746.9160 - 101ms/epoch - 4ms/step\n",
            "Epoch 3/50\n",
            "23/23 - 0s - loss: 3617.2400 - 82ms/epoch - 4ms/step\n",
            "Epoch 4/50\n",
            "23/23 - 0s - loss: 1437.8601 - 112ms/epoch - 5ms/step\n",
            "Epoch 5/50\n",
            "23/23 - 0s - loss: 938.8065 - 71ms/epoch - 3ms/step\n",
            "Epoch 6/50\n",
            "23/23 - 0s - loss: 858.9755 - 153ms/epoch - 7ms/step\n",
            "Epoch 7/50\n",
            "23/23 - 0s - loss: 814.9707 - 81ms/epoch - 4ms/step\n",
            "Epoch 8/50\n",
            "23/23 - 0s - loss: 779.3865 - 63ms/epoch - 3ms/step\n",
            "Epoch 9/50\n",
            "23/23 - 0s - loss: 741.1200 - 51ms/epoch - 2ms/step\n",
            "Epoch 10/50\n",
            "23/23 - 0s - loss: 702.6113 - 60ms/epoch - 3ms/step\n",
            "Epoch 11/50\n",
            "23/23 - 0s - loss: 664.1258 - 85ms/epoch - 4ms/step\n",
            "Epoch 12/50\n",
            "23/23 - 0s - loss: 630.6383 - 48ms/epoch - 2ms/step\n",
            "Epoch 13/50\n",
            "23/23 - 0s - loss: 603.1981 - 78ms/epoch - 3ms/step\n",
            "Epoch 14/50\n",
            "23/23 - 0s - loss: 576.8246 - 100ms/epoch - 4ms/step\n",
            "Epoch 15/50\n",
            "23/23 - 0s - loss: 550.2912 - 45ms/epoch - 2ms/step\n",
            "Epoch 16/50\n",
            "23/23 - 0s - loss: 526.5121 - 44ms/epoch - 2ms/step\n",
            "Epoch 17/50\n",
            "23/23 - 0s - loss: 505.3647 - 49ms/epoch - 2ms/step\n",
            "Epoch 18/50\n",
            "23/23 - 0s - loss: 482.7441 - 51ms/epoch - 2ms/step\n",
            "Epoch 19/50\n",
            "23/23 - 0s - loss: 461.3592 - 53ms/epoch - 2ms/step\n",
            "Epoch 20/50\n",
            "23/23 - 0s - loss: 441.1015 - 67ms/epoch - 3ms/step\n",
            "Epoch 21/50\n",
            "23/23 - 0s - loss: 421.5734 - 61ms/epoch - 3ms/step\n",
            "Epoch 22/50\n",
            "23/23 - 0s - loss: 399.8713 - 83ms/epoch - 4ms/step\n",
            "Epoch 23/50\n",
            "23/23 - 0s - loss: 375.1302 - 48ms/epoch - 2ms/step\n",
            "Epoch 24/50\n",
            "23/23 - 0s - loss: 348.8470 - 51ms/epoch - 2ms/step\n",
            "Epoch 25/50\n",
            "23/23 - 0s - loss: 307.5808 - 68ms/epoch - 3ms/step\n",
            "Epoch 26/50\n",
            "23/23 - 0s - loss: 268.0344 - 87ms/epoch - 4ms/step\n",
            "Epoch 27/50\n",
            "23/23 - 0s - loss: 235.9533 - 57ms/epoch - 2ms/step\n",
            "Epoch 28/50\n",
            "23/23 - 0s - loss: 213.4839 - 58ms/epoch - 3ms/step\n",
            "Epoch 29/50\n",
            "23/23 - 0s - loss: 197.7307 - 58ms/epoch - 3ms/step\n",
            "Epoch 30/50\n",
            "23/23 - 0s - loss: 186.8665 - 80ms/epoch - 3ms/step\n",
            "Epoch 31/50\n",
            "23/23 - 0s - loss: 178.5624 - 130ms/epoch - 6ms/step\n",
            "Epoch 32/50\n",
            "23/23 - 0s - loss: 170.9746 - 53ms/epoch - 2ms/step\n",
            "Epoch 33/50\n",
            "23/23 - 0s - loss: 164.7906 - 91ms/epoch - 4ms/step\n",
            "Epoch 34/50\n",
            "23/23 - 0s - loss: 161.3550 - 81ms/epoch - 4ms/step\n",
            "Epoch 35/50\n",
            "23/23 - 0s - loss: 156.7661 - 61ms/epoch - 3ms/step\n",
            "Epoch 36/50\n",
            "23/23 - 0s - loss: 153.3959 - 54ms/epoch - 2ms/step\n",
            "Epoch 37/50\n",
            "23/23 - 0s - loss: 150.4755 - 78ms/epoch - 3ms/step\n",
            "Epoch 38/50\n",
            "23/23 - 0s - loss: 148.5280 - 65ms/epoch - 3ms/step\n",
            "Epoch 39/50\n",
            "23/23 - 0s - loss: 146.8123 - 53ms/epoch - 2ms/step\n",
            "Epoch 40/50\n",
            "23/23 - 0s - loss: 145.8670 - 139ms/epoch - 6ms/step\n",
            "Epoch 41/50\n",
            "23/23 - 0s - loss: 143.0543 - 70ms/epoch - 3ms/step\n",
            "Epoch 42/50\n",
            "23/23 - 0s - loss: 140.8499 - 51ms/epoch - 2ms/step\n",
            "Epoch 43/50\n",
            "23/23 - 0s - loss: 139.3212 - 49ms/epoch - 2ms/step\n",
            "Epoch 44/50\n",
            "23/23 - 0s - loss: 137.2439 - 67ms/epoch - 3ms/step\n",
            "Epoch 45/50\n",
            "23/23 - 0s - loss: 136.1921 - 101ms/epoch - 4ms/step\n",
            "Epoch 46/50\n",
            "23/23 - 0s - loss: 133.6543 - 83ms/epoch - 4ms/step\n",
            "Epoch 47/50\n",
            "23/23 - 0s - loss: 134.0798 - 136ms/epoch - 6ms/step\n",
            "Epoch 48/50\n",
            "23/23 - 0s - loss: 132.7509 - 120ms/epoch - 5ms/step\n",
            "Epoch 49/50\n",
            "23/23 - 0s - loss: 133.7854 - 66ms/epoch - 3ms/step\n",
            "Epoch 50/50\n",
            "23/23 - 0s - loss: 129.8376 - 99ms/epoch - 4ms/step\n"
          ]
        },
        {
          "output_type": "execute_result",
          "data": {
            "text/plain": [
              "<keras.callbacks.History at 0x7f0080df7e50>"
            ]
          },
          "metadata": {},
          "execution_count": 15
        }
      ]
    },
    {
      "cell_type": "markdown",
      "source": [
        "**Evaluate the model on the test data and compute the mean squared error**"
      ],
      "metadata": {
        "id": "aju5mCjsjc7Y"
      }
    },
    {
      "cell_type": "code",
      "source": [
        "y_hat = model_A.predict(X_test)"
      ],
      "metadata": {
        "colab": {
          "base_uri": "https://localhost:8080/"
        },
        "id": "BZKbN2C3OT23",
        "outputId": "f7581ce3-0aeb-403e-d27d-d92e3751c79b"
      },
      "execution_count": 16,
      "outputs": [
        {
          "output_type": "stream",
          "name": "stdout",
          "text": [
            "10/10 [==============================] - 0s 2ms/step\n"
          ]
        }
      ]
    },
    {
      "cell_type": "code",
      "source": [
        "from sklearn.metrics import mean_squared_error \n",
        "\n",
        "mean_squared_error(y_test, y_hat) # Calculating mean squared error"
      ],
      "metadata": {
        "colab": {
          "base_uri": "https://localhost:8080/"
        },
        "id": "hySvcP1dOfjX",
        "outputId": "b46c358d-38e8-4ae8-d813-a332a074e0e8"
      },
      "execution_count": 17,
      "outputs": [
        {
          "output_type": "execute_result",
          "data": {
            "text/plain": [
              "141.46156344981026"
            ]
          },
          "metadata": {},
          "execution_count": 17
        }
      ]
    },
    {
      "cell_type": "markdown",
      "source": [
        "**Repeating the above process 50 times and creating list of mean squared errors of those models**"
      ],
      "metadata": {
        "id": "oQay1nH_jzqr"
      }
    },
    {
      "cell_type": "code",
      "source": [
        "mse_A = []\n",
        "for _ in range(50):\n",
        "  X_train, X_test, y_train, y_test = train_test_split( X, y, test_size=0.3, random_state=None)\n",
        "  model_A.fit(X_train, y_train, epochs=50, verbose=0)\n",
        "  mse_A.append(model_A.evaluate(X_test, y_test))"
      ],
      "metadata": {
        "colab": {
          "base_uri": "https://localhost:8080/"
        },
        "id": "CrK5K21uOxwi",
        "outputId": "bc0fd4f5-50ff-43e9-bdaf-7b511025b6c3"
      },
      "execution_count": 18,
      "outputs": [
        {
          "output_type": "stream",
          "name": "stdout",
          "text": [
            "10/10 [==============================] - 0s 3ms/step - loss: 115.0715\n",
            "10/10 [==============================] - 0s 2ms/step - loss: 107.0989\n",
            "10/10 [==============================] - 0s 2ms/step - loss: 110.2283\n",
            "10/10 [==============================] - 0s 4ms/step - loss: 121.8706\n",
            "10/10 [==============================] - 0s 2ms/step - loss: 121.9520\n",
            "10/10 [==============================] - 0s 2ms/step - loss: 104.1749\n",
            "10/10 [==============================] - 0s 2ms/step - loss: 118.9237\n",
            "10/10 [==============================] - 0s 2ms/step - loss: 113.3669\n",
            "10/10 [==============================] - 0s 2ms/step - loss: 103.3840\n",
            "10/10 [==============================] - 0s 2ms/step - loss: 107.1442\n",
            "10/10 [==============================] - 0s 2ms/step - loss: 118.5987\n",
            "10/10 [==============================] - 0s 2ms/step - loss: 102.7743\n",
            "10/10 [==============================] - 0s 2ms/step - loss: 125.6628\n",
            "10/10 [==============================] - 0s 2ms/step - loss: 111.4816\n",
            "10/10 [==============================] - 0s 3ms/step - loss: 108.9563\n",
            "10/10 [==============================] - 0s 3ms/step - loss: 111.4293\n",
            "10/10 [==============================] - 0s 2ms/step - loss: 117.0292\n",
            "10/10 [==============================] - 0s 2ms/step - loss: 106.5455\n",
            "10/10 [==============================] - 0s 2ms/step - loss: 116.8352\n",
            "10/10 [==============================] - 0s 2ms/step - loss: 101.8845\n",
            "10/10 [==============================] - 0s 2ms/step - loss: 105.7321\n",
            "10/10 [==============================] - 0s 2ms/step - loss: 127.2546\n",
            "10/10 [==============================] - 0s 2ms/step - loss: 106.0813\n",
            "10/10 [==============================] - 0s 2ms/step - loss: 105.1778\n",
            "10/10 [==============================] - 0s 2ms/step - loss: 112.2835\n",
            "10/10 [==============================] - 0s 3ms/step - loss: 133.7302\n",
            "10/10 [==============================] - 0s 2ms/step - loss: 117.8680\n",
            "10/10 [==============================] - 0s 2ms/step - loss: 112.7311\n",
            "10/10 [==============================] - 0s 3ms/step - loss: 113.8608\n",
            "10/10 [==============================] - 0s 3ms/step - loss: 130.1378\n",
            "10/10 [==============================] - 0s 2ms/step - loss: 106.9722\n",
            "10/10 [==============================] - 0s 3ms/step - loss: 120.1311\n",
            "10/10 [==============================] - 0s 2ms/step - loss: 113.9489\n",
            "10/10 [==============================] - 0s 2ms/step - loss: 100.5080\n",
            "10/10 [==============================] - 0s 3ms/step - loss: 102.7977\n",
            "10/10 [==============================] - 0s 2ms/step - loss: 104.0447\n",
            "10/10 [==============================] - 0s 2ms/step - loss: 125.0516\n",
            "10/10 [==============================] - 0s 2ms/step - loss: 100.5002\n",
            "10/10 [==============================] - 0s 2ms/step - loss: 116.9030\n",
            "10/10 [==============================] - 0s 3ms/step - loss: 101.2472\n",
            "10/10 [==============================] - 0s 2ms/step - loss: 111.3086\n",
            "10/10 [==============================] - 0s 2ms/step - loss: 114.5574\n",
            "10/10 [==============================] - 0s 2ms/step - loss: 114.6046\n",
            "10/10 [==============================] - 0s 2ms/step - loss: 117.9260\n",
            "10/10 [==============================] - 0s 2ms/step - loss: 132.4996\n",
            "10/10 [==============================] - 0s 3ms/step - loss: 105.2989\n",
            "10/10 [==============================] - 0s 2ms/step - loss: 119.2075\n",
            "10/10 [==============================] - 0s 2ms/step - loss: 123.3925\n",
            "10/10 [==============================] - 0s 3ms/step - loss: 105.2151\n",
            "10/10 [==============================] - 0s 2ms/step - loss: 104.6328\n"
          ]
        }
      ]
    },
    {
      "cell_type": "code",
      "source": [
        "mean_mse_A = np.mean(mse_A) \n",
        "print(\"Mean of Mean Squared Errors is {}\".format(mean_mse_A))\n",
        "print(\"Standard deviation of Mean Squared Errors is {}\".format(np.std(mse_A)))"
      ],
      "metadata": {
        "colab": {
          "base_uri": "https://localhost:8080/"
        },
        "id": "m0aA93ydXgW8",
        "outputId": "38e9b58e-3b72-4446-f0d3-9bfe7a5f6211"
      },
      "execution_count": 19,
      "outputs": [
        {
          "output_type": "stream",
          "name": "stdout",
          "text": [
            "Mean of Mean Squared Errors is 113.00035415649414\n",
            "Standard deviation of Mean Squared Errors is 8.607735976514055\n"
          ]
        }
      ]
    },
    {
      "cell_type": "markdown",
      "source": [
        "# **Part B**"
      ],
      "metadata": {
        "id": "pXr9l3y5kTdN"
      }
    },
    {
      "cell_type": "markdown",
      "source": [
        "**Normalising the data**"
      ],
      "metadata": {
        "id": "9lGBEn93kYrU"
      }
    },
    {
      "cell_type": "code",
      "source": [
        "predictors_norm = (predictors - predictors.mean()) / predictors.std()\n",
        "predictors_norm.head()"
      ],
      "metadata": {
        "colab": {
          "base_uri": "https://localhost:8080/",
          "height": 206
        },
        "id": "NLSdKbXpYORv",
        "outputId": "740c9d8f-190e-4876-ba2c-8d0c1cf141eb"
      },
      "execution_count": 20,
      "outputs": [
        {
          "output_type": "execute_result",
          "data": {
            "text/plain": [
              "     Cement  Blast Furnace Slag   Fly Ash     Water  Superplasticizer  \\\n",
              "0  2.476712           -0.856472 -0.846733 -0.916319         -0.620147   \n",
              "1  2.476712           -0.856472 -0.846733 -0.916319         -0.620147   \n",
              "2  0.491187            0.795140 -0.846733  2.174405         -1.038638   \n",
              "3  0.491187            0.795140 -0.846733  2.174405         -1.038638   \n",
              "4 -0.790075            0.678079 -0.846733  0.488555         -1.038638   \n",
              "\n",
              "   Coarse Aggregate  Fine Aggregate       Age  \n",
              "0          0.862735       -1.217079 -0.279597  \n",
              "1          1.055651       -1.217079 -0.279597  \n",
              "2         -0.526262       -2.239829  3.551340  \n",
              "3         -0.526262       -2.239829  5.055221  \n",
              "4          0.070492        0.647569  4.976069  "
            ],
            "text/html": [
              "\n",
              "  <div id=\"df-b915bf4d-4111-4c20-8f8b-2e63884fd616\">\n",
              "    <div class=\"colab-df-container\">\n",
              "      <div>\n",
              "<style scoped>\n",
              "    .dataframe tbody tr th:only-of-type {\n",
              "        vertical-align: middle;\n",
              "    }\n",
              "\n",
              "    .dataframe tbody tr th {\n",
              "        vertical-align: top;\n",
              "    }\n",
              "\n",
              "    .dataframe thead th {\n",
              "        text-align: right;\n",
              "    }\n",
              "</style>\n",
              "<table border=\"1\" class=\"dataframe\">\n",
              "  <thead>\n",
              "    <tr style=\"text-align: right;\">\n",
              "      <th></th>\n",
              "      <th>Cement</th>\n",
              "      <th>Blast Furnace Slag</th>\n",
              "      <th>Fly Ash</th>\n",
              "      <th>Water</th>\n",
              "      <th>Superplasticizer</th>\n",
              "      <th>Coarse Aggregate</th>\n",
              "      <th>Fine Aggregate</th>\n",
              "      <th>Age</th>\n",
              "    </tr>\n",
              "  </thead>\n",
              "  <tbody>\n",
              "    <tr>\n",
              "      <th>0</th>\n",
              "      <td>2.476712</td>\n",
              "      <td>-0.856472</td>\n",
              "      <td>-0.846733</td>\n",
              "      <td>-0.916319</td>\n",
              "      <td>-0.620147</td>\n",
              "      <td>0.862735</td>\n",
              "      <td>-1.217079</td>\n",
              "      <td>-0.279597</td>\n",
              "    </tr>\n",
              "    <tr>\n",
              "      <th>1</th>\n",
              "      <td>2.476712</td>\n",
              "      <td>-0.856472</td>\n",
              "      <td>-0.846733</td>\n",
              "      <td>-0.916319</td>\n",
              "      <td>-0.620147</td>\n",
              "      <td>1.055651</td>\n",
              "      <td>-1.217079</td>\n",
              "      <td>-0.279597</td>\n",
              "    </tr>\n",
              "    <tr>\n",
              "      <th>2</th>\n",
              "      <td>0.491187</td>\n",
              "      <td>0.795140</td>\n",
              "      <td>-0.846733</td>\n",
              "      <td>2.174405</td>\n",
              "      <td>-1.038638</td>\n",
              "      <td>-0.526262</td>\n",
              "      <td>-2.239829</td>\n",
              "      <td>3.551340</td>\n",
              "    </tr>\n",
              "    <tr>\n",
              "      <th>3</th>\n",
              "      <td>0.491187</td>\n",
              "      <td>0.795140</td>\n",
              "      <td>-0.846733</td>\n",
              "      <td>2.174405</td>\n",
              "      <td>-1.038638</td>\n",
              "      <td>-0.526262</td>\n",
              "      <td>-2.239829</td>\n",
              "      <td>5.055221</td>\n",
              "    </tr>\n",
              "    <tr>\n",
              "      <th>4</th>\n",
              "      <td>-0.790075</td>\n",
              "      <td>0.678079</td>\n",
              "      <td>-0.846733</td>\n",
              "      <td>0.488555</td>\n",
              "      <td>-1.038638</td>\n",
              "      <td>0.070492</td>\n",
              "      <td>0.647569</td>\n",
              "      <td>4.976069</td>\n",
              "    </tr>\n",
              "  </tbody>\n",
              "</table>\n",
              "</div>\n",
              "      <button class=\"colab-df-convert\" onclick=\"convertToInteractive('df-b915bf4d-4111-4c20-8f8b-2e63884fd616')\"\n",
              "              title=\"Convert this dataframe to an interactive table.\"\n",
              "              style=\"display:none;\">\n",
              "        \n",
              "  <svg xmlns=\"http://www.w3.org/2000/svg\" height=\"24px\"viewBox=\"0 0 24 24\"\n",
              "       width=\"24px\">\n",
              "    <path d=\"M0 0h24v24H0V0z\" fill=\"none\"/>\n",
              "    <path d=\"M18.56 5.44l.94 2.06.94-2.06 2.06-.94-2.06-.94-.94-2.06-.94 2.06-2.06.94zm-11 1L8.5 8.5l.94-2.06 2.06-.94-2.06-.94L8.5 2.5l-.94 2.06-2.06.94zm10 10l.94 2.06.94-2.06 2.06-.94-2.06-.94-.94-2.06-.94 2.06-2.06.94z\"/><path d=\"M17.41 7.96l-1.37-1.37c-.4-.4-.92-.59-1.43-.59-.52 0-1.04.2-1.43.59L10.3 9.45l-7.72 7.72c-.78.78-.78 2.05 0 2.83L4 21.41c.39.39.9.59 1.41.59.51 0 1.02-.2 1.41-.59l7.78-7.78 2.81-2.81c.8-.78.8-2.07 0-2.86zM5.41 20L4 18.59l7.72-7.72 1.47 1.35L5.41 20z\"/>\n",
              "  </svg>\n",
              "      </button>\n",
              "      \n",
              "  <style>\n",
              "    .colab-df-container {\n",
              "      display:flex;\n",
              "      flex-wrap:wrap;\n",
              "      gap: 12px;\n",
              "    }\n",
              "\n",
              "    .colab-df-convert {\n",
              "      background-color: #E8F0FE;\n",
              "      border: none;\n",
              "      border-radius: 50%;\n",
              "      cursor: pointer;\n",
              "      display: none;\n",
              "      fill: #1967D2;\n",
              "      height: 32px;\n",
              "      padding: 0 0 0 0;\n",
              "      width: 32px;\n",
              "    }\n",
              "\n",
              "    .colab-df-convert:hover {\n",
              "      background-color: #E2EBFA;\n",
              "      box-shadow: 0px 1px 2px rgba(60, 64, 67, 0.3), 0px 1px 3px 1px rgba(60, 64, 67, 0.15);\n",
              "      fill: #174EA6;\n",
              "    }\n",
              "\n",
              "    [theme=dark] .colab-df-convert {\n",
              "      background-color: #3B4455;\n",
              "      fill: #D2E3FC;\n",
              "    }\n",
              "\n",
              "    [theme=dark] .colab-df-convert:hover {\n",
              "      background-color: #434B5C;\n",
              "      box-shadow: 0px 1px 3px 1px rgba(0, 0, 0, 0.15);\n",
              "      filter: drop-shadow(0px 1px 2px rgba(0, 0, 0, 0.3));\n",
              "      fill: #FFFFFF;\n",
              "    }\n",
              "  </style>\n",
              "\n",
              "      <script>\n",
              "        const buttonEl =\n",
              "          document.querySelector('#df-b915bf4d-4111-4c20-8f8b-2e63884fd616 button.colab-df-convert');\n",
              "        buttonEl.style.display =\n",
              "          google.colab.kernel.accessAllowed ? 'block' : 'none';\n",
              "\n",
              "        async function convertToInteractive(key) {\n",
              "          const element = document.querySelector('#df-b915bf4d-4111-4c20-8f8b-2e63884fd616');\n",
              "          const dataTable =\n",
              "            await google.colab.kernel.invokeFunction('convertToInteractive',\n",
              "                                                     [key], {});\n",
              "          if (!dataTable) return;\n",
              "\n",
              "          const docLinkHtml = 'Like what you see? Visit the ' +\n",
              "            '<a target=\"_blank\" href=https://colab.research.google.com/notebooks/data_table.ipynb>data table notebook</a>'\n",
              "            + ' to learn more about interactive tables.';\n",
              "          element.innerHTML = '';\n",
              "          dataTable['output_type'] = 'display_data';\n",
              "          await google.colab.output.renderOutput(dataTable, element);\n",
              "          const docLink = document.createElement('div');\n",
              "          docLink.innerHTML = docLinkHtml;\n",
              "          element.appendChild(docLink);\n",
              "        }\n",
              "      </script>\n",
              "    </div>\n",
              "  </div>\n",
              "  "
            ]
          },
          "metadata": {},
          "execution_count": 20
        }
      ]
    },
    {
      "cell_type": "code",
      "source": [
        "X_norm = np.asarray(predictors_norm)"
      ],
      "metadata": {
        "id": "hgMXEYE5YuaU"
      },
      "execution_count": 21,
      "outputs": []
    },
    {
      "cell_type": "markdown",
      "source": [
        "**Creating the list of 50 mean squared errors list**"
      ],
      "metadata": {
        "id": "zx9dAwrQkndy"
      }
    },
    {
      "cell_type": "code",
      "source": [
        "model_B = regression_model()\n",
        "mse_B = []\n",
        "for _ in range(50):\n",
        "  X_train, X_test, y_train, y_test = train_test_split( X_norm, y, test_size=0.3, random_state=None)\n",
        "  model_B.fit(X_train, y_train, epochs=50, verbose=0)\n",
        "  mse_B.append(model_B.evaluate(X_test, y_test)) # Using the evaluate method to get MSE"
      ],
      "metadata": {
        "colab": {
          "base_uri": "https://localhost:8080/"
        },
        "id": "Aq5RRvt8Yf31",
        "outputId": "ec20f7f6-c39c-49b3-8860-796498eeb11e"
      },
      "execution_count": 22,
      "outputs": [
        {
          "output_type": "stream",
          "name": "stdout",
          "text": [
            "10/10 [==============================] - 0s 2ms/step - loss: 340.4415\n",
            "10/10 [==============================] - 0s 2ms/step - loss: 155.2993\n",
            "10/10 [==============================] - 0s 2ms/step - loss: 115.5798\n",
            "10/10 [==============================] - 0s 3ms/step - loss: 85.1037\n",
            "10/10 [==============================] - 0s 2ms/step - loss: 63.0370\n",
            "10/10 [==============================] - 0s 2ms/step - loss: 59.3234\n",
            "10/10 [==============================] - 0s 2ms/step - loss: 43.5402\n",
            "10/10 [==============================] - 0s 2ms/step - loss: 53.2729\n",
            "10/10 [==============================] - 0s 2ms/step - loss: 48.6471\n",
            "10/10 [==============================] - 0s 3ms/step - loss: 43.7992\n",
            "10/10 [==============================] - 0s 2ms/step - loss: 40.2503\n",
            "10/10 [==============================] - 0s 3ms/step - loss: 44.4489\n",
            "10/10 [==============================] - 0s 2ms/step - loss: 39.9929\n",
            "10/10 [==============================] - 0s 2ms/step - loss: 36.9599\n",
            "10/10 [==============================] - 0s 2ms/step - loss: 40.8461\n",
            "10/10 [==============================] - 0s 2ms/step - loss: 45.7356\n",
            "10/10 [==============================] - 0s 2ms/step - loss: 38.7924\n",
            "10/10 [==============================] - 0s 2ms/step - loss: 41.2127\n",
            "10/10 [==============================] - 0s 2ms/step - loss: 32.9489\n",
            "10/10 [==============================] - 0s 2ms/step - loss: 39.0227\n",
            "10/10 [==============================] - 0s 2ms/step - loss: 39.5813\n",
            "10/10 [==============================] - 0s 3ms/step - loss: 39.5905\n",
            "10/10 [==============================] - 0s 3ms/step - loss: 39.6684\n",
            "10/10 [==============================] - 0s 2ms/step - loss: 36.1156\n",
            "10/10 [==============================] - 0s 2ms/step - loss: 37.7320\n",
            "10/10 [==============================] - 0s 2ms/step - loss: 38.9605\n",
            "10/10 [==============================] - 0s 2ms/step - loss: 38.7985\n",
            "10/10 [==============================] - 0s 2ms/step - loss: 34.8344\n",
            "10/10 [==============================] - 0s 3ms/step - loss: 35.5396\n",
            "10/10 [==============================] - 0s 2ms/step - loss: 37.8019\n",
            "10/10 [==============================] - 0s 2ms/step - loss: 35.9447\n",
            "10/10 [==============================] - 0s 2ms/step - loss: 32.6444\n",
            "10/10 [==============================] - 0s 2ms/step - loss: 32.5690\n",
            "10/10 [==============================] - 0s 3ms/step - loss: 30.1337\n",
            "10/10 [==============================] - 0s 2ms/step - loss: 37.9061\n",
            "10/10 [==============================] - 0s 3ms/step - loss: 30.8078\n",
            "10/10 [==============================] - 0s 2ms/step - loss: 35.3593\n",
            "10/10 [==============================] - 0s 2ms/step - loss: 36.2933\n",
            "10/10 [==============================] - 0s 2ms/step - loss: 29.7223\n",
            "10/10 [==============================] - 0s 2ms/step - loss: 33.7440\n",
            "10/10 [==============================] - 0s 2ms/step - loss: 32.5265\n",
            "10/10 [==============================] - 0s 3ms/step - loss: 26.1833\n",
            "10/10 [==============================] - 0s 2ms/step - loss: 30.6496\n",
            "10/10 [==============================] - 0s 2ms/step - loss: 25.1066\n",
            "10/10 [==============================] - 0s 2ms/step - loss: 35.5323\n",
            "10/10 [==============================] - 0s 2ms/step - loss: 30.0868\n",
            "10/10 [==============================] - 0s 2ms/step - loss: 28.4612\n",
            "10/10 [==============================] - 0s 2ms/step - loss: 32.8225\n",
            "10/10 [==============================] - 0s 2ms/step - loss: 29.0929\n",
            "10/10 [==============================] - 0s 2ms/step - loss: 32.9044\n"
          ]
        }
      ]
    },
    {
      "cell_type": "code",
      "source": [
        "mean_mse_B = np.mean(mse_B)\n",
        "print(\"Mean of Mean Squared Errors is {}\".format(mean_mse_B))\n",
        "print(\"Standard deviation of Mean Squared Errors is {}\".format(np.std(mse_B)))"
      ],
      "metadata": {
        "colab": {
          "base_uri": "https://localhost:8080/"
        },
        "id": "gbY9pr7MZi1M",
        "outputId": "0394ea00-f240-4fb5-87ce-0997c8581b26"
      },
      "execution_count": 23,
      "outputs": [
        {
          "output_type": "stream",
          "name": "stdout",
          "text": [
            "Mean of Mean Squared Errors is 48.50735622406006\n",
            "Standard deviation of Mean Squared Errors is 47.02767654353788\n"
          ]
        }
      ]
    },
    {
      "cell_type": "code",
      "source": [
        "print(\"The difference in Mean of Mean Squared Errors of Part A and Part B is {}\".format(mean_mse_A - mean_mse_B))"
      ],
      "metadata": {
        "colab": {
          "base_uri": "https://localhost:8080/"
        },
        "id": "TCmrhHkVaEoO",
        "outputId": "6410f414-e71f-4933-b2f5-eca38f7c6327"
      },
      "execution_count": 24,
      "outputs": [
        {
          "output_type": "stream",
          "name": "stdout",
          "text": [
            "The difference in Mean of Mean Squared Errors of Part A and Part B is 64.49299793243408\n"
          ]
        }
      ]
    },
    {
      "cell_type": "markdown",
      "source": [
        "***The Mean of mean squared errors of Part B is considerably lower than that of part A.\n",
        "The Normalisation of the data has increased the accuracy of the trained model.***"
      ],
      "metadata": {
        "id": "rwcHmqQBk0zD"
      }
    },
    {
      "cell_type": "markdown",
      "source": [
        "# **Part C**"
      ],
      "metadata": {
        "id": "fgwIKODul5Ta"
      }
    },
    {
      "cell_type": "markdown",
      "source": [
        "**Repeating the above process by training the data with 100 epochs**"
      ],
      "metadata": {
        "id": "AI3C7lUemFtk"
      }
    },
    {
      "cell_type": "code",
      "source": [
        "model_C = regression_model()\n",
        "mse_C = []\n",
        "for _ in range(50):\n",
        "  X_train, X_test, y_train, y_test = train_test_split( X_norm, y, test_size=0.3, random_state=None)\n",
        "  model_C.fit(X_train, y_train, epochs=100, verbose=0)\n",
        "  mse_C.append(model_C.evaluate(X_test, y_test)) # Using the evaluate method to get MSE"
      ],
      "metadata": {
        "colab": {
          "base_uri": "https://localhost:8080/"
        },
        "id": "luMTjNRkcATn",
        "outputId": "fc2256d9-0429-409d-b9b1-726583158ff5"
      },
      "execution_count": 25,
      "outputs": [
        {
          "output_type": "stream",
          "name": "stdout",
          "text": [
            "10/10 [==============================] - 0s 2ms/step - loss: 161.0084\n",
            "10/10 [==============================] - 0s 2ms/step - loss: 85.1067\n",
            "10/10 [==============================] - 0s 2ms/step - loss: 81.6160\n",
            "10/10 [==============================] - 0s 4ms/step - loss: 50.2418\n",
            "10/10 [==============================] - 0s 3ms/step - loss: 48.4906\n",
            "10/10 [==============================] - 0s 4ms/step - loss: 36.9354\n",
            "10/10 [==============================] - 0s 2ms/step - loss: 37.5014\n",
            "10/10 [==============================] - 0s 2ms/step - loss: 33.7010\n",
            "10/10 [==============================] - 0s 2ms/step - loss: 32.8994\n",
            "10/10 [==============================] - 0s 2ms/step - loss: 36.0121\n",
            "10/10 [==============================] - 0s 2ms/step - loss: 30.4869\n",
            "10/10 [==============================] - 0s 2ms/step - loss: 38.2156\n",
            "10/10 [==============================] - 0s 3ms/step - loss: 28.7706\n",
            "10/10 [==============================] - 0s 3ms/step - loss: 34.4193\n",
            "10/10 [==============================] - 0s 2ms/step - loss: 34.8842\n",
            "10/10 [==============================] - 0s 2ms/step - loss: 28.1895\n",
            "10/10 [==============================] - 0s 2ms/step - loss: 34.8779\n",
            "10/10 [==============================] - 0s 2ms/step - loss: 29.1160\n",
            "10/10 [==============================] - 0s 2ms/step - loss: 31.3774\n",
            "10/10 [==============================] - 0s 2ms/step - loss: 27.0306\n",
            "10/10 [==============================] - 0s 2ms/step - loss: 31.4161\n",
            "10/10 [==============================] - 0s 2ms/step - loss: 31.1858\n",
            "10/10 [==============================] - 0s 3ms/step - loss: 31.4513\n",
            "10/10 [==============================] - 0s 2ms/step - loss: 36.6474\n",
            "10/10 [==============================] - 0s 3ms/step - loss: 33.2989\n",
            "10/10 [==============================] - 0s 2ms/step - loss: 34.2083\n",
            "10/10 [==============================] - 0s 2ms/step - loss: 37.0969\n",
            "10/10 [==============================] - 0s 2ms/step - loss: 36.7793\n",
            "10/10 [==============================] - 0s 4ms/step - loss: 33.3757\n",
            "10/10 [==============================] - 0s 2ms/step - loss: 29.2002\n",
            "10/10 [==============================] - 0s 2ms/step - loss: 34.0519\n",
            "10/10 [==============================] - 0s 2ms/step - loss: 35.2689\n",
            "10/10 [==============================] - 0s 2ms/step - loss: 36.5067\n",
            "10/10 [==============================] - 0s 2ms/step - loss: 33.3304\n",
            "10/10 [==============================] - 0s 3ms/step - loss: 32.9276\n",
            "10/10 [==============================] - 0s 2ms/step - loss: 30.6549\n",
            "10/10 [==============================] - 0s 2ms/step - loss: 34.2694\n",
            "10/10 [==============================] - 0s 2ms/step - loss: 30.1317\n",
            "10/10 [==============================] - 0s 3ms/step - loss: 35.4641\n",
            "10/10 [==============================] - 0s 2ms/step - loss: 30.6466\n",
            "10/10 [==============================] - 0s 3ms/step - loss: 29.9853\n",
            "10/10 [==============================] - 0s 3ms/step - loss: 32.9368\n",
            "10/10 [==============================] - 0s 3ms/step - loss: 32.4112\n",
            "10/10 [==============================] - 0s 2ms/step - loss: 35.0173\n",
            "10/10 [==============================] - 0s 2ms/step - loss: 31.9183\n",
            "10/10 [==============================] - 0s 2ms/step - loss: 30.8631\n",
            "10/10 [==============================] - 0s 2ms/step - loss: 30.7499\n",
            "10/10 [==============================] - 0s 2ms/step - loss: 31.8077\n",
            "10/10 [==============================] - 0s 2ms/step - loss: 32.1632\n",
            "10/10 [==============================] - 0s 2ms/step - loss: 36.0723\n"
          ]
        }
      ]
    },
    {
      "cell_type": "code",
      "source": [
        "mean_mse_C = np.mean(mse_C)\n",
        "print(\"Mean of Mean Squared Errors is {}\".format(mean_mse_C))\n",
        "print(\"Standard deviation of Mean Squared Errors is {}\".format(np.std(mse_C)))"
      ],
      "metadata": {
        "colab": {
          "base_uri": "https://localhost:8080/"
        },
        "id": "z7nVc92scs-W",
        "outputId": "a91aa754-cc9f-41c7-aef5-75598006da01"
      },
      "execution_count": 26,
      "outputs": [
        {
          "output_type": "stream",
          "name": "stdout",
          "text": [
            "Mean of Mean Squared Errors is 38.25436706542969\n",
            "Standard deviation of Mean Squared Errors is 20.471491045462816\n"
          ]
        }
      ]
    },
    {
      "cell_type": "code",
      "source": [
        "print(\"The difference in Mean of Mean Squared Errors of Part B and Part C is {}\".format(mean_mse_B - mean_mse_C))"
      ],
      "metadata": {
        "colab": {
          "base_uri": "https://localhost:8080/"
        },
        "id": "DItbgDjOdjPg",
        "outputId": "d5dcf598-e72c-4fb5-e863-00e1a4f186de"
      },
      "execution_count": 27,
      "outputs": [
        {
          "output_type": "stream",
          "name": "stdout",
          "text": [
            "The difference in Mean of Mean Squared Errors of Part B and Part C is 10.25298915863037\n"
          ]
        }
      ]
    },
    {
      "cell_type": "markdown",
      "source": [
        "***The Mean of mean squared errors of Part C is  lower than that of part B. Higher number of epochs in the trained model has resulted in higher accuracy of the trained model.***"
      ],
      "metadata": {
        "id": "tUVDXgicmjVM"
      }
    },
    {
      "cell_type": "markdown",
      "source": [
        "# **Part D**"
      ],
      "metadata": {
        "id": "fklab3F_m-7n"
      }
    },
    {
      "cell_type": "markdown",
      "source": [
        "**Creating a model with 3 hidden layers**"
      ],
      "metadata": {
        "id": "yiAnr7sLnDua"
      }
    },
    {
      "cell_type": "code",
      "source": [
        "# define regression model\n",
        "def regression_model_D():\n",
        "    # create model\n",
        "    model = Sequential()\n",
        "    model.add(Dense(10, activation='relu', input_shape=(n_cols,)))\n",
        "    model.add(Dense(10, activation='relu'))\n",
        "    model.add(Dense(10, activation='relu'))\n",
        "    model.add(Dense(1))\n",
        "    \n",
        "    # compile model\n",
        "    model.compile(optimizer='adam', loss='mean_squared_error')\n",
        "    return model"
      ],
      "metadata": {
        "id": "bF0Uee5odwxE"
      },
      "execution_count": 28,
      "outputs": []
    },
    {
      "cell_type": "code",
      "source": [
        "model_D = regression_model_D()"
      ],
      "metadata": {
        "id": "1pwxRoSIeIyK"
      },
      "execution_count": 29,
      "outputs": []
    },
    {
      "cell_type": "markdown",
      "source": [
        "**Training and testing the model 50 times:**"
      ],
      "metadata": {
        "id": "hMVQWYSxnM6-"
      }
    },
    {
      "cell_type": "code",
      "source": [
        "mse_D = []\n",
        "for _ in range(50):\n",
        "  X_train, X_test, y_train, y_test = train_test_split( X_norm, y, test_size=0.3, random_state=None)\n",
        "  model_D.fit(X_train, y_train, epochs=50, verbose=0)\n",
        "  mse_D.append(model_D.evaluate(X_test, y_test)) # Using the evaluate method to get MSE"
      ],
      "metadata": {
        "colab": {
          "base_uri": "https://localhost:8080/"
        },
        "id": "gJcF-OQXeR9g",
        "outputId": "43ce965d-23af-439a-cb14-92557b566e1f"
      },
      "execution_count": 31,
      "outputs": [
        {
          "output_type": "stream",
          "name": "stdout",
          "text": [
            "10/10 [==============================] - 0s 2ms/step - loss: 58.8598\n",
            "10/10 [==============================] - 0s 2ms/step - loss: 47.6536\n",
            "10/10 [==============================] - 0s 2ms/step - loss: 42.8463\n",
            "10/10 [==============================] - 0s 2ms/step - loss: 36.3274\n",
            "10/10 [==============================] - 0s 3ms/step - loss: 29.5697\n",
            "10/10 [==============================] - 0s 2ms/step - loss: 29.6993\n",
            "10/10 [==============================] - 0s 2ms/step - loss: 30.8797\n",
            "10/10 [==============================] - 0s 2ms/step - loss: 28.7315\n",
            "10/10 [==============================] - 0s 2ms/step - loss: 32.4015\n",
            "10/10 [==============================] - 0s 2ms/step - loss: 29.0556\n",
            "10/10 [==============================] - 0s 2ms/step - loss: 26.1227\n",
            "10/10 [==============================] - 0s 2ms/step - loss: 25.5008\n",
            "10/10 [==============================] - 0s 2ms/step - loss: 25.2717\n",
            "10/10 [==============================] - 0s 2ms/step - loss: 27.4180\n",
            "10/10 [==============================] - 0s 3ms/step - loss: 26.9644\n",
            "10/10 [==============================] - 0s 2ms/step - loss: 30.8286\n",
            "10/10 [==============================] - 0s 2ms/step - loss: 24.3956\n",
            "10/10 [==============================] - 0s 2ms/step - loss: 24.0600\n",
            "10/10 [==============================] - 0s 2ms/step - loss: 25.0014\n",
            "10/10 [==============================] - 0s 3ms/step - loss: 25.9145\n",
            "10/10 [==============================] - 0s 2ms/step - loss: 24.6095\n",
            "10/10 [==============================] - 0s 3ms/step - loss: 25.7246\n",
            "10/10 [==============================] - 0s 2ms/step - loss: 22.5761\n",
            "10/10 [==============================] - 0s 2ms/step - loss: 24.3407\n",
            "10/10 [==============================] - 0s 2ms/step - loss: 25.3921\n",
            "10/10 [==============================] - 0s 2ms/step - loss: 24.8449\n",
            "10/10 [==============================] - 0s 2ms/step - loss: 26.0346\n",
            "10/10 [==============================] - 0s 2ms/step - loss: 22.9561\n",
            "10/10 [==============================] - 0s 2ms/step - loss: 23.7937\n",
            "10/10 [==============================] - 0s 2ms/step - loss: 24.7486\n",
            "10/10 [==============================] - 0s 2ms/step - loss: 23.4911\n",
            "10/10 [==============================] - 0s 2ms/step - loss: 26.6233\n",
            "10/10 [==============================] - 0s 3ms/step - loss: 21.1238\n",
            "10/10 [==============================] - 0s 2ms/step - loss: 18.8811\n",
            "10/10 [==============================] - 0s 2ms/step - loss: 19.2331\n",
            "10/10 [==============================] - 0s 3ms/step - loss: 22.4772\n",
            "10/10 [==============================] - 0s 3ms/step - loss: 20.6556\n",
            "10/10 [==============================] - 0s 2ms/step - loss: 21.3883\n",
            "10/10 [==============================] - 0s 2ms/step - loss: 20.8881\n",
            "10/10 [==============================] - 0s 2ms/step - loss: 21.8325\n",
            "10/10 [==============================] - 0s 2ms/step - loss: 20.9780\n",
            "10/10 [==============================] - 0s 2ms/step - loss: 21.3983\n",
            "10/10 [==============================] - 0s 2ms/step - loss: 20.1769\n",
            "10/10 [==============================] - 0s 2ms/step - loss: 21.5580\n",
            "10/10 [==============================] - 0s 2ms/step - loss: 21.0079\n",
            "10/10 [==============================] - 0s 2ms/step - loss: 20.9528\n",
            "10/10 [==============================] - 0s 2ms/step - loss: 19.0037\n",
            "10/10 [==============================] - 0s 4ms/step - loss: 16.1064\n",
            "10/10 [==============================] - 0s 2ms/step - loss: 21.5308\n",
            "10/10 [==============================] - 0s 2ms/step - loss: 21.0327\n"
          ]
        }
      ]
    },
    {
      "cell_type": "code",
      "source": [
        "mean_mse_D = np.mean(mse_D)\n",
        "print(\"Mean of Mean Squared Errors is {}\".format(mean_mse_D))\n",
        "print(\"Standard deviation of Mean Squared Errors is {}\".format(np.std(mse_D)))"
      ],
      "metadata": {
        "colab": {
          "base_uri": "https://localhost:8080/"
        },
        "id": "MKP-2faRegpr",
        "outputId": "3c1af924-5bc3-4ae7-c983-7035c7df256e"
      },
      "execution_count": 32,
      "outputs": [
        {
          "output_type": "stream",
          "name": "stdout",
          "text": [
            "Mean of Mean Squared Errors is 25.857250480651857\n",
            "Standard deviation of Mean Squared Errors is 7.333430400205578\n"
          ]
        }
      ]
    },
    {
      "cell_type": "code",
      "source": [
        "print(\"The difference in Mean of Mean Squared Errors of Part B and Part D is {}\".format(mean_mse_B - mean_mse_D))"
      ],
      "metadata": {
        "colab": {
          "base_uri": "https://localhost:8080/"
        },
        "id": "wrXCGRgVepUq",
        "outputId": "8112b0cf-590b-44c8-a86a-6bec5bb3b4e8"
      },
      "execution_count": 33,
      "outputs": [
        {
          "output_type": "stream",
          "name": "stdout",
          "text": [
            "The difference in Mean of Mean Squared Errors of Part B and Part D is 22.650105743408204\n"
          ]
        }
      ]
    },
    {
      "cell_type": "markdown",
      "source": [
        "**There is a considerable increase of the accuracy of the model after increasing the number of hidden layers when compared to the model of Part B**"
      ],
      "metadata": {
        "id": "A9eEmxeInaIE"
      }
    },
    {
      "cell_type": "markdown",
      "source": [
        "***In General optimal number of epochs and hidden layers in the regression model can increase the accuray of the trained model tremendously***"
      ],
      "metadata": {
        "id": "kqTDy9-Pqef2"
      }
    }
  ]
}